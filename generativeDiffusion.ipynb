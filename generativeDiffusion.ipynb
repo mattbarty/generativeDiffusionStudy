{
 "cells": [
  {
   "cell_type": "code",
   "execution_count": 1,
   "metadata": {},
   "outputs": [],
   "source": [
    "# # Install dependencies\n",
    "# !pip install torch torchvision matplotlib numpy"
   ]
  },
  {
   "cell_type": "code",
   "execution_count": 4,
   "metadata": {},
   "outputs": [],
   "source": [
    "import matplotlib.pyplot as plt\n",
    "import numpy as np\n",
    "import os"
   ]
  },
  {
   "cell_type": "markdown",
   "metadata": {},
   "source": [
    "# Building a Generative Diffusion Model with WoW Icons\n",
    "\n",
    "## Dataset Information\n",
    "\n",
    "For this project, I'm using the \"CleanIcons-MechagnomeEdition\" dataset, specifically version 11.1.0.59347-V4-1, which contains a collection of World of Warcraft icons. This dataset may be awful and not work, I have no idea yet.\n",
    "\n",
    "### Dataset Details\n",
    "\n",
    "- **Name**: CleanIcons-MechagnomeEdition-11.1.0.59347-V4-1\n",
    "- **source**: https://github.com/AcidWeb/Clean-Icons-Mechagnome-Edition/releases/tag/11.1.0.59347-V4-1\n",
    "- **Contents**: World of Warcraft icons\n",
    "- **Format**: .tga\n",
    "\n",
    "## Project Objectives\n",
    "\n",
    "In this notebook, I'll document the process of building a generative diffusion model that can create new WoW-style icons. Diffusion models work by gradually adding noise to images and then learning to reverse this process, allowing for high-quality image generation.\n"
   ]
  },
  {
   "cell_type": "code",
   "execution_count": 5,
   "metadata": {},
   "outputs": [
    {
     "data": {
      "text/plain": [
       "<Figure size 1000x1000 with 0 Axes>"
      ]
     },
     "metadata": {},
     "output_type": "display_data"
    }
   ],
   "source": [
    "# display random samples from dataset\n",
    "\n",
    "plot = plt.figure(figsize=(10, 10))\n",
    "\n",
    "data_dir = r\"./data/ICONS\""
   ]
  },
  {
   "cell_type": "markdown",
   "metadata": {},
   "source": [
    "# Noise Scheduler\n"
   ]
  },
  {
   "cell_type": "markdown",
   "metadata": {},
   "source": [
    "# Neutral Network\n"
   ]
  },
  {
   "cell_type": "markdown",
   "metadata": {},
   "source": [
    "# Timestep Encoding\n"
   ]
  },
  {
   "cell_type": "markdown",
   "metadata": {},
   "source": []
  }
 ],
 "metadata": {
  "kernelspec": {
   "display_name": "venv",
   "language": "python",
   "name": "python3"
  },
  "language_info": {
   "codemirror_mode": {
    "name": "ipython",
    "version": 3
   },
   "file_extension": ".py",
   "mimetype": "text/x-python",
   "name": "python",
   "nbconvert_exporter": "python",
   "pygments_lexer": "ipython3",
   "version": "3.11.5"
  }
 },
 "nbformat": 4,
 "nbformat_minor": 2
}
